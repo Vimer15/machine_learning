{
 "cells": [
  {
   "cell_type": "markdown",
   "id": "bb7e2fb4-fdf9-4d6e-afee-f84081ecb773",
   "metadata": {},
   "source": [
    "## 1. Подключение библиотек и импорт данных"
   ]
  },
  {
   "cell_type": "code",
   "execution_count": 1,
   "id": "d1628881-b920-4abd-9ca1-3aee53dc0e04",
   "metadata": {},
   "outputs": [
    {
     "name": "stdout",
     "output_type": "stream",
     "text": [
      "Requirement already satisfied: pymorphy3 in d:\\proga_anaconda\\lib\\site-packages (2.0.4)\n",
      "Requirement already satisfied: dawg2-python>=0.8.0 in d:\\proga_anaconda\\lib\\site-packages (from pymorphy3) (0.9.0)\n",
      "Requirement already satisfied: pymorphy3-dicts-ru in d:\\proga_anaconda\\lib\\site-packages (from pymorphy3) (2.4.417150.4580142)\n",
      "Requirement already satisfied: setuptools>=68.2.2 in d:\\proga_anaconda\\lib\\site-packages (from pymorphy3) (72.1.0)\n",
      "Note: you may need to restart the kernel to use updated packages.\n"
     ]
    }
   ],
   "source": [
    "pip install pymorphy3"
   ]
  },
  {
   "cell_type": "code",
   "execution_count": 2,
   "id": "e3dccb18-7a02-4d32-b63e-3949e8f91084",
   "metadata": {},
   "outputs": [],
   "source": [
    "import matplotlib.pyplot as plt\n",
    "%matplotlib inline\n",
    "import seaborn as sns"
   ]
  },
  {
   "cell_type": "code",
   "execution_count": 3,
   "id": "5447aa5a-a687-4305-8457-b9a17566417d",
   "metadata": {},
   "outputs": [],
   "source": [
    "import pandas as pd\n",
    "import string\n",
    "import re\n",
    "import nltk\n",
    "import pymorphy3\n",
    "import numpy as np"
   ]
  },
  {
   "cell_type": "code",
   "execution_count": 4,
   "id": "dfeb35c1-c1ed-42ea-8ce2-ac4b9819fb3e",
   "metadata": {},
   "outputs": [],
   "source": [
    "df = pd.read_csv(\"real_estate_data.csv\", low_memory=False)"
   ]
  },
  {
   "cell_type": "markdown",
   "id": "0ca8e686-7656-4735-bb76-d304b1d2ee16",
   "metadata": {},
   "source": [
    "### Описание набора данных"
   ]
  },
  {
   "cell_type": "code",
   "execution_count": 5,
   "id": "c448564e-2584-4826-98a8-784ffb86e83c",
   "metadata": {
    "scrolled": true
   },
   "outputs": [
    {
     "name": "stdout",
     "output_type": "stream",
     "text": [
      "<class 'pandas.core.frame.DataFrame'>\n",
      "RangeIndex: 403487 entries, 0 to 403486\n",
      "Data columns (total 17 columns):\n",
      " #   Column             Non-Null Count   Dtype  \n",
      "---  ------             --------------   -----  \n",
      " 0   id                 403487 non-null  int64  \n",
      " 1   type               403487 non-null  object \n",
      " 2   sub_type           403487 non-null  object \n",
      " 3   start_date         403487 non-null  object \n",
      " 4   end_date           266298 non-null  object \n",
      " 5   listing_type       403487 non-null  int64  \n",
      " 6   tom                403487 non-null  int64  \n",
      " 7   building_age       376097 non-null  object \n",
      " 8   total_floor_count  375466 non-null  object \n",
      " 9   floor_no           368191 non-null  object \n",
      " 10  room_count         403487 non-null  object \n",
      " 11  size               257481 non-null  float64\n",
      " 12  address            403487 non-null  object \n",
      " 13  furnished          0 non-null       float64\n",
      " 14  heating_type       375517 non-null  object \n",
      " 15  price              402772 non-null  float64\n",
      " 16  price_currency     402772 non-null  object \n",
      "dtypes: float64(3), int64(3), object(11)\n",
      "memory usage: 52.3+ MB\n"
     ]
    }
   ],
   "source": [
    "df.info()"
   ]
  },
  {
   "cell_type": "markdown",
   "id": "3c2501f2-8392-4f56-b048-bc5e81bde432",
   "metadata": {},
   "source": [
    "### Признаки (Описание)\n",
    "\n",
    "\n",
    "- type (Тип недвижимости) \n",
    "- sub_type (подгруппа по типу недвижимости)\n",
    "- start_date (дата, когда листинг начинает действовать на рынке)\n",
    "- end_date (дата, когда листинг больше не активен на рынке)\n",
    "- listing_type (Тип объявления)\n",
    "- tom (Время выхода на рынок)\n",
    "- building_age (Возраст здания)\n",
    "- total_floor_count (Общее количество этажей в здании)\n",
    "- room_count (Количество комнат в квартире)\n",
    "- size (Размер дома)\n",
    "- address (Адрес жилого помещения)\n",
    "- furnished (-)\n",
    "- currency (Валюта цены на жилье)\n",
    "- floor_no (Информация о номере этажа в данном объявлении)\n",
    "- price (Стоимость дома)\n",
    "- heating_type (Различные типы систем отопления)"
   ]
  },
  {
   "cell_type": "markdown",
   "id": "7fbe388d-2b96-4677-8fc2-67f4384c7ae3",
   "metadata": {},
   "source": [
    "## 2. Предварительная обработка данных"
   ]
  },
  {
   "cell_type": "code",
   "execution_count": 6,
   "id": "bb718899-4d5f-4518-b7a9-8cd734323e2c",
   "metadata": {},
   "outputs": [
    {
     "data": {
      "text/plain": [
       "np.int64(0)"
      ]
     },
     "execution_count": 6,
     "metadata": {},
     "output_type": "execute_result"
    }
   ],
   "source": [
    "# Проверка на дубликаты\n",
    "df.duplicated().sum()  "
   ]
  },
  {
   "cell_type": "code",
   "execution_count": 7,
   "id": "dd26b540-5b02-4182-b8e7-1f1d9dbfc615",
   "metadata": {},
   "outputs": [
    {
     "data": {
      "text/plain": [
       "id                        0\n",
       "type                      0\n",
       "sub_type                  0\n",
       "start_date                0\n",
       "end_date             137189\n",
       "listing_type              0\n",
       "tom                       0\n",
       "building_age          27390\n",
       "total_floor_count     28021\n",
       "floor_no              35296\n",
       "room_count                0\n",
       "size                 146006\n",
       "address                   0\n",
       "furnished            403487\n",
       "heating_type          27970\n",
       "price                   715\n",
       "price_currency          715\n",
       "dtype: int64"
      ]
     },
     "execution_count": 7,
     "metadata": {},
     "output_type": "execute_result"
    }
   ],
   "source": [
    "# Проверка на пустые значения\n",
    "df.isna().sum()"
   ]
  },
  {
   "cell_type": "markdown",
   "id": "0a65b211-60fd-4364-9bae-ffd8fc8b6f79",
   "metadata": {},
   "source": [
    "## Заполняем средними значениями"
   ]
  },
  {
   "cell_type": "code",
   "execution_count": 8,
   "id": "c2893238-925e-4ca0-b4ff-cc226ab1c60d",
   "metadata": {},
   "outputs": [],
   "source": [
    "# Заполнение средними значениями пустые size и building_age\n",
    "df['size'] = df['size'].fillna(df['size'].mean())\n",
    "df['building_age'] = pd.to_numeric(df['building_age'], errors='coerce')\n",
    "df['building_age'] = df['building_age'].fillna(df['building_age'].mean())"
   ]
  },
  {
   "cell_type": "code",
   "execution_count": 9,
   "id": "bdd45f1e-61a7-426a-bf95-88c72fc9f4ee",
   "metadata": {},
   "outputs": [
    {
     "data": {
      "text/plain": [
       "id                        0\n",
       "type                      0\n",
       "sub_type                  0\n",
       "start_date                0\n",
       "end_date             137189\n",
       "listing_type              0\n",
       "tom                       0\n",
       "building_age              0\n",
       "total_floor_count     28021\n",
       "floor_no              35296\n",
       "room_count                0\n",
       "size                      0\n",
       "address                   0\n",
       "furnished            403487\n",
       "heating_type          27970\n",
       "price                   715\n",
       "price_currency          715\n",
       "dtype: int64"
      ]
     },
     "execution_count": 9,
     "metadata": {},
     "output_type": "execute_result"
    }
   ],
   "source": [
    "df.isna().sum()"
   ]
  },
  {
   "cell_type": "code",
   "execution_count": 10,
   "id": "dbcfd8a4-c9cb-4023-b5a8-0140fe10bc13",
   "metadata": {},
   "outputs": [
    {
     "data": {
      "text/plain": [
       "array(['20 ve üzeri', '1', '10-20 arası', '4', '2', '3', '8', '7', '6',\n",
       "       '5', '10', nan, '9'], dtype=object)"
      ]
     },
     "execution_count": 10,
     "metadata": {},
     "output_type": "execute_result"
    }
   ],
   "source": [
    "df['total_floor_count'].unique()"
   ]
  },
  {
   "cell_type": "code",
   "execution_count": 11,
   "id": "40ab50de-ea29-448a-bd6c-93019dbf362b",
   "metadata": {},
   "outputs": [],
   "source": [
    "replacements = {\n",
    "    ' ve üzeri': '',\n",
    "    '10-20 arası': '15', \n",
    "    '6-10 arası': '8'   \n",
    "}\n",
    "\n",
    "# Применяем все замены последовательно\n",
    "for old_text, new_text in replacements.items():\n",
    "    df['total_floor_count'] = df['total_floor_count'].str.replace(old_text, new_text)\n",
    "\n",
    "# Заполняем пропуски нулем и преобразуем в целые числа\n",
    "df['total_floor_count'] = df['total_floor_count'].fillna('0').astype(int)"
   ]
  },
  {
   "cell_type": "code",
   "execution_count": 12,
   "id": "7de22390-d1f5-4f7f-ab37-9dcabd3758a4",
   "metadata": {},
   "outputs": [
    {
     "data": {
      "text/plain": [
       "array([20,  1, 15,  4,  2,  3,  8,  7,  6,  5, 10,  0,  9])"
      ]
     },
     "execution_count": 12,
     "metadata": {},
     "output_type": "execute_result"
    }
   ],
   "source": [
    "df['total_floor_count'].unique()"
   ]
  },
  {
   "cell_type": "code",
   "execution_count": 13,
   "id": "83fc10c8-dd8e-4980-914a-ab448c9ccbb3",
   "metadata": {},
   "outputs": [
    {
     "name": "stdout",
     "output_type": "stream",
     "text": [
      "<class 'pandas.core.frame.DataFrame'>\n",
      "RangeIndex: 403487 entries, 0 to 403486\n",
      "Data columns (total 17 columns):\n",
      " #   Column             Non-Null Count   Dtype  \n",
      "---  ------             --------------   -----  \n",
      " 0   id                 403487 non-null  int64  \n",
      " 1   type               403487 non-null  object \n",
      " 2   sub_type           403487 non-null  object \n",
      " 3   start_date         403487 non-null  object \n",
      " 4   end_date           266298 non-null  object \n",
      " 5   listing_type       403487 non-null  int64  \n",
      " 6   tom                403487 non-null  int64  \n",
      " 7   building_age       403487 non-null  float64\n",
      " 8   total_floor_count  403487 non-null  int64  \n",
      " 9   floor_no           368191 non-null  object \n",
      " 10  room_count         403487 non-null  object \n",
      " 11  size               403487 non-null  float64\n",
      " 12  address            403487 non-null  object \n",
      " 13  furnished          0 non-null       float64\n",
      " 14  heating_type       375517 non-null  object \n",
      " 15  price              402772 non-null  float64\n",
      " 16  price_currency     402772 non-null  object \n",
      "dtypes: float64(4), int64(4), object(9)\n",
      "memory usage: 52.3+ MB\n"
     ]
    }
   ],
   "source": [
    "df.info()"
   ]
  },
  {
   "cell_type": "markdown",
   "id": "3d23abf9-492f-4655-b354-5c2767c82f3d",
   "metadata": {},
   "source": [
    "## Заполним пустые значения на последнию дату календаря"
   ]
  },
  {
   "cell_type": "code",
   "execution_count": 14,
   "id": "37e63679-a99d-466f-a572-1be7665f5d17",
   "metadata": {},
   "outputs": [],
   "source": [
    "df['end_date'] = df['end_date'].fillna('08/09/25')"
   ]
  },
  {
   "cell_type": "markdown",
   "id": "b6974a0e-8557-4aa8-aafb-dd4101fc0d51",
   "metadata": {},
   "source": [
    "## Этажи/пристройки "
   ]
  },
  {
   "cell_type": "code",
   "execution_count": 15,
   "id": "8aeae0c4-9445-4bf0-89ad-feb39b6c4e1b",
   "metadata": {},
   "outputs": [],
   "source": [
    "# Определяем все замены в словаре\n",
    "floor_replacements = {\n",
    "    'Kot ': '',           \n",
    "    ' ve üzeri': '',      \n",
    "    'Yüksek Giriş': '10', # Высокий вход = 10 этаж\n",
    "    'Asma Kat': '1',      # Мансарда = 1 этаж\n",
    "    'Bahçe katı': '4',    # Садовый этаж = 4 этаж\n",
    "    'Müstakil': '7',      # Отдельный = 7 этаж\n",
    "    'Zemin Kat': '1',     # Цокольный этаж = 1 этаж\n",
    "    'En Üst Kat': '10',   # Верхний этаж = 10 этаж\n",
    "    'Giriş Katı': '3',    # Входной этаж = 3 этаж\n",
    "    'Çatı Katı': '4',     # Чердачный этаж = 4 этаж\n",
    "    'Teras': '1',         # Терраса = 1 этаж\n",
    "    'Komple': '6',        # Комплекс = 6 этаж\n",
    "    'Bodrum Kat': '1',    # Подвальный этаж = 1 этаж\n",
    "    ' Kat': ''            # Удаляем \"Этаж\"\n",
    "}\n",
    "for old_value, new_value in floor_replacements.items():\n",
    "    df['floor_no'] = df['floor_no'].str.replace(old_value, new_value)\n",
    "df['floor_no'] = df['floor_no'].fillna('0').astype(int)"
   ]
  },
  {
   "cell_type": "code",
   "execution_count": 16,
   "id": "eb28f8e3-fc62-42a5-9a00-87c33bb82d15",
   "metadata": {},
   "outputs": [
    {
     "data": {
      "text/plain": [
       "array([ 2, 20, 10, 14,  0,  1,  4, 11,  3, 13,  7, 16, 19,  5,  8, 15,  9,\n",
       "       12, 17,  6, 18])"
      ]
     },
     "execution_count": 16,
     "metadata": {},
     "output_type": "execute_result"
    }
   ],
   "source": [
    "df['floor_no'].unique()"
   ]
  },
  {
   "cell_type": "code",
   "execution_count": 17,
   "id": "fd73fc79-d675-4a91-a89e-cdc4fc23b4bc",
   "metadata": {},
   "outputs": [
    {
     "data": {
      "text/plain": [
       "array(['Fancoil', 'Yok', 'Kalorifer (Doğalgaz)', 'Kalorifer (Kömür)',\n",
       "       'Kombi (Elektrikli)', 'Klima', 'Kombi (Doğalgaz)',\n",
       "       'Merkezi Sistem (Isı Payı Ölçer)', 'Merkezi Sistem',\n",
       "       'Soba (Kömür)', 'Yerden Isıtma', 'Soba (Doğalgaz)',\n",
       "       'Güneş Enerjisi', 'Kalorifer (Akaryakıt)', 'Jeotermal',\n",
       "       'Kat Kaloriferi', nan], dtype=object)"
      ]
     },
     "execution_count": 17,
     "metadata": {},
     "output_type": "execute_result"
    }
   ],
   "source": [
    "df['heating_type'].unique()"
   ]
  },
  {
   "cell_type": "code",
   "execution_count": 18,
   "id": "98ca0ec1-f5eb-4abe-bddf-2cdf9a96389f",
   "metadata": {},
   "outputs": [],
   "source": [
    "df['heating_type'] = df['heating_type'].fillna('absent')"
   ]
  },
  {
   "cell_type": "code",
   "execution_count": 19,
   "id": "91b8ddd7-3162-4f1f-801e-edfa96738cf9",
   "metadata": {},
   "outputs": [],
   "source": [
    "df['price'] = df['price'].fillna(df['price'].mean())"
   ]
  },
  {
   "cell_type": "code",
   "execution_count": 20,
   "id": "612bddb1-0385-4dae-b7a7-c36749451d01",
   "metadata": {},
   "outputs": [],
   "source": [
    "df['price'] = df['price'].astype(int)\n",
    "df['size'] = df['size'].astype(int)\n",
    "df['building_age'] = df['building_age'].astype(int)"
   ]
  },
  {
   "cell_type": "code",
   "execution_count": 21,
   "id": "535fe3c1-560c-4d83-9eee-cd3c7629a6dd",
   "metadata": {},
   "outputs": [
    {
     "data": {
      "text/plain": [
       "id                        0\n",
       "type                      0\n",
       "sub_type                  0\n",
       "start_date                0\n",
       "end_date                  0\n",
       "listing_type              0\n",
       "tom                       0\n",
       "building_age              0\n",
       "total_floor_count         0\n",
       "floor_no                  0\n",
       "room_count                0\n",
       "size                      0\n",
       "address                   0\n",
       "furnished            403487\n",
       "heating_type              0\n",
       "price                     0\n",
       "price_currency          715\n",
       "dtype: int64"
      ]
     },
     "execution_count": 21,
     "metadata": {},
     "output_type": "execute_result"
    }
   ],
   "source": [
    "df.isna().sum()"
   ]
  },
  {
   "cell_type": "markdown",
   "id": "6820d3fd-44bf-40d4-b538-b1ae8e936f37",
   "metadata": {},
   "source": [
    "# Валюта"
   ]
  },
  {
   "cell_type": "code",
   "execution_count": 22,
   "id": "51867aa9-ae9d-4786-875c-fda4d44ae280",
   "metadata": {},
   "outputs": [
    {
     "data": {
      "text/plain": [
       "array(['TRY', 'GBP', 'EUR', 'USD', nan], dtype=object)"
      ]
     },
     "execution_count": 22,
     "metadata": {},
     "output_type": "execute_result"
    }
   ],
   "source": [
    "df['price_currency'].unique()"
   ]
  },
  {
   "cell_type": "code",
   "execution_count": 23,
   "id": "2339ff4d-6b5b-4834-ab17-2bb9d83339d0",
   "metadata": {},
   "outputs": [],
   "source": [
    "def convert_to_try_currency(dataframe, rates):\n",
    "    df_copy = dataframe.copy()\n",
    "    df_copy['price'] = df_copy['price'].astype(float)\n",
    "    \n",
    "    currency_conversion = [\n",
    "        (df_copy['price_currency'] == curr, \n",
    "         df_copy['price'] * float(rate), \n",
    "         'TRY')\n",
    "        for curr, rate in rates.items()\n",
    "    ]\n",
    "    \n",
    "    for mask, converted_price, new_currency in currency_conversion:\n",
    "        df_copy.loc[mask, 'price'] = converted_price\n",
    "        df_copy.loc[mask, 'price_currency'] = new_currency\n",
    "    \n",
    "    return df_copy\n",
    "\n",
    "# Курсы обмена\n",
    "exchange_rates = {'EUR': 47.91, 'USD': 41.16, 'GBP': 55.08}\n",
    "df = convert_to_try_currency(df, exchange_rates)"
   ]
  },
  {
   "cell_type": "code",
   "execution_count": 24,
   "id": "dc786379-b1af-4643-abda-3433dc5fcc93",
   "metadata": {},
   "outputs": [],
   "source": [
    "# Удаление не нужных столбцов\n",
    "df.drop('furnished', axis=1, inplace=True)\n",
    "df.drop('price_currency', axis=1, inplace=True)\n",
    "df.drop('id', axis=1, inplace=True)\n",
    "df.drop('type', axis=1, inplace=True)"
   ]
  },
  {
   "cell_type": "code",
   "execution_count": 25,
   "id": "cf080de2-82eb-4bd0-aa08-6bdc7ae1402a",
   "metadata": {},
   "outputs": [
    {
     "data": {
      "text/plain": [
       "sub_type             0\n",
       "start_date           0\n",
       "end_date             0\n",
       "listing_type         0\n",
       "tom                  0\n",
       "building_age         0\n",
       "total_floor_count    0\n",
       "floor_no             0\n",
       "room_count           0\n",
       "size                 0\n",
       "address              0\n",
       "heating_type         0\n",
       "price                0\n",
       "dtype: int64"
      ]
     },
     "execution_count": 25,
     "metadata": {},
     "output_type": "execute_result"
    }
   ],
   "source": [
    "df.isna().sum()"
   ]
  },
  {
   "cell_type": "code",
   "execution_count": 26,
   "id": "a91361f3-8b23-4de3-812c-d027731d20f2",
   "metadata": {},
   "outputs": [],
   "source": [
    "# Перевод в тип данных datetime\n",
    "df['start_date'] = pd.to_datetime(df['start_date'], format='mixed', dayfirst=True)\n",
    "df['end_date'] = pd.to_datetime(df['end_date'], format='mixed', dayfirst=True)"
   ]
  },
  {
   "cell_type": "markdown",
   "id": "b7ccff3d-2cbb-42ce-b4fd-6d96e7627917",
   "metadata": {},
   "source": [
    "## Работа с комнатами"
   ]
  },
  {
   "cell_type": "code",
   "execution_count": 27,
   "id": "7e693830-0ee5-4a9f-bae1-77c6f8203062",
   "metadata": {},
   "outputs": [
    {
     "data": {
      "text/plain": [
       "sub_type             2898\n",
       "start_date           2898\n",
       "end_date             2898\n",
       "listing_type         2898\n",
       "tom                  2898\n",
       "building_age         2898\n",
       "total_floor_count    2898\n",
       "floor_no             2898\n",
       "room_count           2898\n",
       "size                 2898\n",
       "address              2898\n",
       "heating_type         2898\n",
       "price                2898\n",
       "dtype: int64"
      ]
     },
     "execution_count": 27,
     "metadata": {},
     "output_type": "execute_result"
    }
   ],
   "source": [
    "df[df['room_count'] == '+'].count()"
   ]
  },
  {
   "cell_type": "code",
   "execution_count": 28,
   "id": "27d6f951-221d-452c-a441-8a0c120c9e7e",
   "metadata": {},
   "outputs": [],
   "source": [
    "def parse_room_quantity(input_value):\n",
    "    if pd.isna(input_value) or input_value in ['+', ''] or input_value == 0: # не корректные\n",
    "        return 1\n",
    "    \n",
    "    string_value = str(input_value)\n",
    "    parts = string_value.split('+')\n",
    "    total_rooms = 0\n",
    "    for part in parts:\n",
    "        if part.isdigit():\n",
    "            total_rooms += int(part)\n",
    "    if total_rooms == 20:\n",
    "        return 1\n",
    "    \n",
    "    return total_rooms\n",
    "df['room_count'] = df['room_count'].apply(parse_room_quantity)"
   ]
  },
  {
   "cell_type": "code",
   "execution_count": 29,
   "id": "bcb0f42a-0a25-4e3d-bb74-d6e666c715f2",
   "metadata": {},
   "outputs": [
    {
     "data": {
      "text/plain": [
       "np.int64(6409)"
      ]
     },
     "execution_count": 29,
     "metadata": {},
     "output_type": "execute_result"
    }
   ],
   "source": [
    "df[df['size'] < 20].count().sum()"
   ]
  },
  {
   "cell_type": "code",
   "execution_count": 30,
   "id": "aeaca198-bf19-4c0b-8770-fcedccce3545",
   "metadata": {},
   "outputs": [
    {
     "data": {
      "text/plain": [
       "np.int64(13)"
      ]
     },
     "execution_count": 30,
     "metadata": {},
     "output_type": "execute_result"
    }
   ],
   "source": [
    "df[df['price'] < 0].count().sum()"
   ]
  },
  {
   "cell_type": "code",
   "execution_count": 31,
   "id": "c006f112-d554-47fe-bda8-b32b1f7738e5",
   "metadata": {},
   "outputs": [],
   "source": [
    "# Удаление аномальных значений\n",
    "indices_to_drop = df[(df['size'] < 20) | (df['price'] < 0)].index\n",
    "df = df.drop(indices_to_drop)\n",
    "indices_to_drop = df[(df['price'] > 500000)].index\n",
    "df = df.drop(indices_to_drop)\n",
    "indices_to_drop = df[(df['size'] > 6000)].index\n",
    "df = df.drop(indices_to_drop)\n",
    "indices_to_drop = df[(df['listing_type'] == 3)].index\n",
    "df = df.drop(indices_to_drop)"
   ]
  },
  {
   "cell_type": "code",
   "execution_count": 32,
   "id": "3b5f0344-606f-4be4-b654-529960a02ffd",
   "metadata": {},
   "outputs": [
    {
     "data": {
      "text/html": [
       "<div>\n",
       "<style scoped>\n",
       "    .dataframe tbody tr th:only-of-type {\n",
       "        vertical-align: middle;\n",
       "    }\n",
       "\n",
       "    .dataframe tbody tr th {\n",
       "        vertical-align: top;\n",
       "    }\n",
       "\n",
       "    .dataframe thead th {\n",
       "        text-align: right;\n",
       "    }\n",
       "</style>\n",
       "<table border=\"1\" class=\"dataframe\">\n",
       "  <thead>\n",
       "    <tr style=\"text-align: right;\">\n",
       "      <th></th>\n",
       "      <th>start_date</th>\n",
       "      <th>end_date</th>\n",
       "      <th>listing_type</th>\n",
       "      <th>tom</th>\n",
       "      <th>building_age</th>\n",
       "      <th>total_floor_count</th>\n",
       "      <th>floor_no</th>\n",
       "      <th>room_count</th>\n",
       "      <th>size</th>\n",
       "      <th>price</th>\n",
       "    </tr>\n",
       "  </thead>\n",
       "  <tbody>\n",
       "    <tr>\n",
       "      <th>count</th>\n",
       "      <td>347108</td>\n",
       "      <td>347108</td>\n",
       "      <td>347108.000000</td>\n",
       "      <td>347108.000000</td>\n",
       "      <td>347108.00000</td>\n",
       "      <td>347108.000000</td>\n",
       "      <td>347108.000000</td>\n",
       "      <td>347108.000000</td>\n",
       "      <td>347108.000000</td>\n",
       "      <td>347108.000000</td>\n",
       "    </tr>\n",
       "    <tr>\n",
       "      <th>mean</th>\n",
       "      <td>2018-10-28 22:41:18.601472512</td>\n",
       "      <td>2021-03-13 10:54:53.296610816</td>\n",
       "      <td>1.328581</td>\n",
       "      <td>55.802891</td>\n",
       "      <td>1.05082</td>\n",
       "      <td>5.343562</td>\n",
       "      <td>3.763843</td>\n",
       "      <td>3.531330</td>\n",
       "      <td>174.875180</td>\n",
       "      <td>170050.822423</td>\n",
       "    </tr>\n",
       "    <tr>\n",
       "      <th>min</th>\n",
       "      <td>2018-01-09 00:00:00</td>\n",
       "      <td>2018-01-09 00:00:00</td>\n",
       "      <td>1.000000</td>\n",
       "      <td>0.000000</td>\n",
       "      <td>0.00000</td>\n",
       "      <td>0.000000</td>\n",
       "      <td>0.000000</td>\n",
       "      <td>1.000000</td>\n",
       "      <td>20.000000</td>\n",
       "      <td>0.000000</td>\n",
       "    </tr>\n",
       "    <tr>\n",
       "      <th>25%</th>\n",
       "      <td>2018-09-15 00:00:00</td>\n",
       "      <td>2018-11-29 00:00:00</td>\n",
       "      <td>1.000000</td>\n",
       "      <td>27.000000</td>\n",
       "      <td>0.00000</td>\n",
       "      <td>3.000000</td>\n",
       "      <td>2.000000</td>\n",
       "      <td>3.000000</td>\n",
       "      <td>95.000000</td>\n",
       "      <td>1750.000000</td>\n",
       "    </tr>\n",
       "    <tr>\n",
       "      <th>50%</th>\n",
       "      <td>2018-10-30 00:00:00</td>\n",
       "      <td>2019-02-16 00:00:00</td>\n",
       "      <td>1.000000</td>\n",
       "      <td>36.000000</td>\n",
       "      <td>1.00000</td>\n",
       "      <td>4.000000</td>\n",
       "      <td>3.000000</td>\n",
       "      <td>4.000000</td>\n",
       "      <td>140.000000</td>\n",
       "      <td>175000.000000</td>\n",
       "    </tr>\n",
       "    <tr>\n",
       "      <th>75%</th>\n",
       "      <td>2018-12-27 00:00:00</td>\n",
       "      <td>2025-09-08 00:00:00</td>\n",
       "      <td>2.000000</td>\n",
       "      <td>88.000000</td>\n",
       "      <td>1.00000</td>\n",
       "      <td>6.000000</td>\n",
       "      <td>5.000000</td>\n",
       "      <td>4.000000</td>\n",
       "      <td>279.000000</td>\n",
       "      <td>275000.000000</td>\n",
       "    </tr>\n",
       "    <tr>\n",
       "      <th>max</th>\n",
       "      <td>2019-12-02 00:00:00</td>\n",
       "      <td>2025-09-08 00:00:00</td>\n",
       "      <td>2.000000</td>\n",
       "      <td>180.000000</td>\n",
       "      <td>5.00000</td>\n",
       "      <td>20.000000</td>\n",
       "      <td>20.000000</td>\n",
       "      <td>14.000000</td>\n",
       "      <td>6000.000000</td>\n",
       "      <td>500000.000000</td>\n",
       "    </tr>\n",
       "    <tr>\n",
       "      <th>std</th>\n",
       "      <td>NaN</td>\n",
       "      <td>NaN</td>\n",
       "      <td>0.469698</td>\n",
       "      <td>43.928339</td>\n",
       "      <td>1.22327</td>\n",
       "      <td>4.028339</td>\n",
       "      <td>3.173975</td>\n",
       "      <td>0.983109</td>\n",
       "      <td>101.534434</td>\n",
       "      <td>144519.163749</td>\n",
       "    </tr>\n",
       "  </tbody>\n",
       "</table>\n",
       "</div>"
      ],
      "text/plain": [
       "                          start_date                       end_date  \\\n",
       "count                         347108                         347108   \n",
       "mean   2018-10-28 22:41:18.601472512  2021-03-13 10:54:53.296610816   \n",
       "min              2018-01-09 00:00:00            2018-01-09 00:00:00   \n",
       "25%              2018-09-15 00:00:00            2018-11-29 00:00:00   \n",
       "50%              2018-10-30 00:00:00            2019-02-16 00:00:00   \n",
       "75%              2018-12-27 00:00:00            2025-09-08 00:00:00   \n",
       "max              2019-12-02 00:00:00            2025-09-08 00:00:00   \n",
       "std                              NaN                            NaN   \n",
       "\n",
       "        listing_type            tom  building_age  total_floor_count  \\\n",
       "count  347108.000000  347108.000000  347108.00000      347108.000000   \n",
       "mean        1.328581      55.802891       1.05082           5.343562   \n",
       "min         1.000000       0.000000       0.00000           0.000000   \n",
       "25%         1.000000      27.000000       0.00000           3.000000   \n",
       "50%         1.000000      36.000000       1.00000           4.000000   \n",
       "75%         2.000000      88.000000       1.00000           6.000000   \n",
       "max         2.000000     180.000000       5.00000          20.000000   \n",
       "std         0.469698      43.928339       1.22327           4.028339   \n",
       "\n",
       "            floor_no     room_count           size          price  \n",
       "count  347108.000000  347108.000000  347108.000000  347108.000000  \n",
       "mean        3.763843       3.531330     174.875180  170050.822423  \n",
       "min         0.000000       1.000000      20.000000       0.000000  \n",
       "25%         2.000000       3.000000      95.000000    1750.000000  \n",
       "50%         3.000000       4.000000     140.000000  175000.000000  \n",
       "75%         5.000000       4.000000     279.000000  275000.000000  \n",
       "max        20.000000      14.000000    6000.000000  500000.000000  \n",
       "std         3.173975       0.983109     101.534434  144519.163749  "
      ]
     },
     "execution_count": 32,
     "metadata": {},
     "output_type": "execute_result"
    }
   ],
   "source": [
    "df.describe()"
   ]
  },
  {
   "cell_type": "code",
   "execution_count": 33,
   "id": "1cd8e0ed-97a2-4f61-8013-622fe3c02dd2",
   "metadata": {},
   "outputs": [],
   "source": [
    "from sklearn.preprocessing import LabelEncoder\n",
    "\n",
    "le = LabelEncoder()\n",
    "df['address_encoded'] = le.fit_transform(df['address'])\n",
    "df = df.drop('address', axis=1)"
   ]
  },
  {
   "cell_type": "code",
   "execution_count": 34,
   "id": "a357b83a-7922-47d6-a628-aab418333149",
   "metadata": {},
   "outputs": [
    {
     "data": {
      "text/html": [
       "<div>\n",
       "<style scoped>\n",
       "    .dataframe tbody tr th:only-of-type {\n",
       "        vertical-align: middle;\n",
       "    }\n",
       "\n",
       "    .dataframe tbody tr th {\n",
       "        vertical-align: top;\n",
       "    }\n",
       "\n",
       "    .dataframe thead th {\n",
       "        text-align: right;\n",
       "    }\n",
       "</style>\n",
       "<table border=\"1\" class=\"dataframe\">\n",
       "  <thead>\n",
       "    <tr style=\"text-align: right;\">\n",
       "      <th></th>\n",
       "      <th>sub_type</th>\n",
       "      <th>start_date</th>\n",
       "      <th>end_date</th>\n",
       "      <th>listing_type</th>\n",
       "      <th>tom</th>\n",
       "      <th>building_age</th>\n",
       "      <th>total_floor_count</th>\n",
       "      <th>floor_no</th>\n",
       "      <th>room_count</th>\n",
       "      <th>size</th>\n",
       "      <th>heating_type</th>\n",
       "      <th>price</th>\n",
       "      <th>address_encoded</th>\n",
       "    </tr>\n",
       "  </thead>\n",
       "  <tbody>\n",
       "    <tr>\n",
       "      <th>0</th>\n",
       "      <td>Rezidans</td>\n",
       "      <td>2018-10-12</td>\n",
       "      <td>2019-09-01</td>\n",
       "      <td>2</td>\n",
       "      <td>30</td>\n",
       "      <td>0</td>\n",
       "      <td>20</td>\n",
       "      <td>2</td>\n",
       "      <td>3</td>\n",
       "      <td>90</td>\n",
       "      <td>Fancoil</td>\n",
       "      <td>3500.0</td>\n",
       "      <td>6301</td>\n",
       "    </tr>\n",
       "    <tr>\n",
       "      <th>1</th>\n",
       "      <td>Daire</td>\n",
       "      <td>2019-02-13</td>\n",
       "      <td>2025-09-08</td>\n",
       "      <td>1</td>\n",
       "      <td>14</td>\n",
       "      <td>0</td>\n",
       "      <td>20</td>\n",
       "      <td>20</td>\n",
       "      <td>1</td>\n",
       "      <td>43</td>\n",
       "      <td>Fancoil</td>\n",
       "      <td>490000.0</td>\n",
       "      <td>6301</td>\n",
       "    </tr>\n",
       "    <tr>\n",
       "      <th>2</th>\n",
       "      <td>Daire</td>\n",
       "      <td>2018-09-10</td>\n",
       "      <td>2018-08-11</td>\n",
       "      <td>1</td>\n",
       "      <td>30</td>\n",
       "      <td>0</td>\n",
       "      <td>1</td>\n",
       "      <td>10</td>\n",
       "      <td>3</td>\n",
       "      <td>279</td>\n",
       "      <td>Fancoil</td>\n",
       "      <td>155000.0</td>\n",
       "      <td>5314</td>\n",
       "    </tr>\n",
       "    <tr>\n",
       "      <th>6</th>\n",
       "      <td>Daire</td>\n",
       "      <td>2019-04-01</td>\n",
       "      <td>2025-09-08</td>\n",
       "      <td>2</td>\n",
       "      <td>54</td>\n",
       "      <td>0</td>\n",
       "      <td>20</td>\n",
       "      <td>14</td>\n",
       "      <td>4</td>\n",
       "      <td>160</td>\n",
       "      <td>Fancoil</td>\n",
       "      <td>3750.0</td>\n",
       "      <td>6301</td>\n",
       "    </tr>\n",
       "    <tr>\n",
       "      <th>11</th>\n",
       "      <td>Rezidans</td>\n",
       "      <td>2019-05-01</td>\n",
       "      <td>2019-01-18</td>\n",
       "      <td>2</td>\n",
       "      <td>13</td>\n",
       "      <td>2</td>\n",
       "      <td>20</td>\n",
       "      <td>20</td>\n",
       "      <td>4</td>\n",
       "      <td>165</td>\n",
       "      <td>Fancoil</td>\n",
       "      <td>7500.0</td>\n",
       "      <td>6703</td>\n",
       "    </tr>\n",
       "    <tr>\n",
       "      <th>...</th>\n",
       "      <td>...</td>\n",
       "      <td>...</td>\n",
       "      <td>...</td>\n",
       "      <td>...</td>\n",
       "      <td>...</td>\n",
       "      <td>...</td>\n",
       "      <td>...</td>\n",
       "      <td>...</td>\n",
       "      <td>...</td>\n",
       "      <td>...</td>\n",
       "      <td>...</td>\n",
       "      <td>...</td>\n",
       "      <td>...</td>\n",
       "    </tr>\n",
       "    <tr>\n",
       "      <th>403480</th>\n",
       "      <td>Daire</td>\n",
       "      <td>2018-09-25</td>\n",
       "      <td>2019-01-23</td>\n",
       "      <td>1</td>\n",
       "      <td>120</td>\n",
       "      <td>1</td>\n",
       "      <td>0</td>\n",
       "      <td>0</td>\n",
       "      <td>4</td>\n",
       "      <td>279</td>\n",
       "      <td>absent</td>\n",
       "      <td>185000.0</td>\n",
       "      <td>1165</td>\n",
       "    </tr>\n",
       "    <tr>\n",
       "      <th>403481</th>\n",
       "      <td>Daire</td>\n",
       "      <td>2019-12-01</td>\n",
       "      <td>2025-09-08</td>\n",
       "      <td>1</td>\n",
       "      <td>46</td>\n",
       "      <td>1</td>\n",
       "      <td>0</td>\n",
       "      <td>0</td>\n",
       "      <td>1</td>\n",
       "      <td>279</td>\n",
       "      <td>absent</td>\n",
       "      <td>354641.0</td>\n",
       "      <td>7096</td>\n",
       "    </tr>\n",
       "    <tr>\n",
       "      <th>403482</th>\n",
       "      <td>Daire</td>\n",
       "      <td>2018-09-18</td>\n",
       "      <td>2025-09-08</td>\n",
       "      <td>2</td>\n",
       "      <td>162</td>\n",
       "      <td>1</td>\n",
       "      <td>0</td>\n",
       "      <td>0</td>\n",
       "      <td>1</td>\n",
       "      <td>279</td>\n",
       "      <td>absent</td>\n",
       "      <td>1500.0</td>\n",
       "      <td>6477</td>\n",
       "    </tr>\n",
       "    <tr>\n",
       "      <th>403483</th>\n",
       "      <td>Daire</td>\n",
       "      <td>2018-11-10</td>\n",
       "      <td>2025-09-08</td>\n",
       "      <td>1</td>\n",
       "      <td>139</td>\n",
       "      <td>1</td>\n",
       "      <td>0</td>\n",
       "      <td>0</td>\n",
       "      <td>3</td>\n",
       "      <td>279</td>\n",
       "      <td>absent</td>\n",
       "      <td>120000.0</td>\n",
       "      <td>4838</td>\n",
       "    </tr>\n",
       "    <tr>\n",
       "      <th>403486</th>\n",
       "      <td>Daire</td>\n",
       "      <td>2019-01-15</td>\n",
       "      <td>2019-01-18</td>\n",
       "      <td>1</td>\n",
       "      <td>3</td>\n",
       "      <td>1</td>\n",
       "      <td>0</td>\n",
       "      <td>0</td>\n",
       "      <td>4</td>\n",
       "      <td>140</td>\n",
       "      <td>absent</td>\n",
       "      <td>210000.0</td>\n",
       "      <td>3128</td>\n",
       "    </tr>\n",
       "  </tbody>\n",
       "</table>\n",
       "<p>347108 rows × 13 columns</p>\n",
       "</div>"
      ],
      "text/plain": [
       "        sub_type start_date   end_date  listing_type  tom  building_age  \\\n",
       "0       Rezidans 2018-10-12 2019-09-01             2   30             0   \n",
       "1          Daire 2019-02-13 2025-09-08             1   14             0   \n",
       "2          Daire 2018-09-10 2018-08-11             1   30             0   \n",
       "6          Daire 2019-04-01 2025-09-08             2   54             0   \n",
       "11      Rezidans 2019-05-01 2019-01-18             2   13             2   \n",
       "...          ...        ...        ...           ...  ...           ...   \n",
       "403480     Daire 2018-09-25 2019-01-23             1  120             1   \n",
       "403481     Daire 2019-12-01 2025-09-08             1   46             1   \n",
       "403482     Daire 2018-09-18 2025-09-08             2  162             1   \n",
       "403483     Daire 2018-11-10 2025-09-08             1  139             1   \n",
       "403486     Daire 2019-01-15 2019-01-18             1    3             1   \n",
       "\n",
       "        total_floor_count  floor_no  room_count  size heating_type     price  \\\n",
       "0                      20         2           3    90      Fancoil    3500.0   \n",
       "1                      20        20           1    43      Fancoil  490000.0   \n",
       "2                       1        10           3   279      Fancoil  155000.0   \n",
       "6                      20        14           4   160      Fancoil    3750.0   \n",
       "11                     20        20           4   165      Fancoil    7500.0   \n",
       "...                   ...       ...         ...   ...          ...       ...   \n",
       "403480                  0         0           4   279       absent  185000.0   \n",
       "403481                  0         0           1   279       absent  354641.0   \n",
       "403482                  0         0           1   279       absent    1500.0   \n",
       "403483                  0         0           3   279       absent  120000.0   \n",
       "403486                  0         0           4   140       absent  210000.0   \n",
       "\n",
       "        address_encoded  \n",
       "0                  6301  \n",
       "1                  6301  \n",
       "2                  5314  \n",
       "6                  6301  \n",
       "11                 6703  \n",
       "...                 ...  \n",
       "403480             1165  \n",
       "403481             7096  \n",
       "403482             6477  \n",
       "403483             4838  \n",
       "403486             3128  \n",
       "\n",
       "[347108 rows x 13 columns]"
      ]
     },
     "execution_count": 34,
     "metadata": {},
     "output_type": "execute_result"
    }
   ],
   "source": [
    "df"
   ]
  },
  {
   "cell_type": "code",
   "execution_count": 35,
   "id": "cb300676-9fd1-40e0-80ba-8fc3d0e6170c",
   "metadata": {},
   "outputs": [
    {
     "name": "stdout",
     "output_type": "stream",
     "text": [
      "<class 'pandas.core.frame.DataFrame'>\n",
      "Index: 347108 entries, 0 to 403486\n",
      "Data columns (total 13 columns):\n",
      " #   Column             Non-Null Count   Dtype         \n",
      "---  ------             --------------   -----         \n",
      " 0   sub_type           347108 non-null  object        \n",
      " 1   start_date         347108 non-null  datetime64[ns]\n",
      " 2   end_date           347108 non-null  datetime64[ns]\n",
      " 3   listing_type       347108 non-null  int64         \n",
      " 4   tom                347108 non-null  int64         \n",
      " 5   building_age       347108 non-null  int64         \n",
      " 6   total_floor_count  347108 non-null  int64         \n",
      " 7   floor_no           347108 non-null  int64         \n",
      " 8   room_count         347108 non-null  int64         \n",
      " 9   size               347108 non-null  int64         \n",
      " 10  heating_type       347108 non-null  object        \n",
      " 11  price              347108 non-null  float64       \n",
      " 12  address_encoded    347108 non-null  int64         \n",
      "dtypes: datetime64[ns](2), float64(1), int64(8), object(2)\n",
      "memory usage: 37.1+ MB\n"
     ]
    }
   ],
   "source": [
    "df.info()"
   ]
  },
  {
   "cell_type": "markdown",
   "id": "f844ce95-890e-4a8a-ad97-644474784f46",
   "metadata": {},
   "source": [
    "## 3. Визуальный анализ данных"
   ]
  },
  {
   "cell_type": "code",
   "execution_count": 36,
   "id": "bb477ded-4a48-4f13-85b0-94a24f1389e9",
   "metadata": {},
   "outputs": [
    {
     "data": {
      "image/png": "[encoded data removed]",
      "text/plain": [
       "<Figure size 2000x2000 with 2 Axes>"
      ]
     },
     "metadata": {},
     "output_type": "display_data"
    }
   ],
   "source": [
    "import matplotlib.pyplot as plt\n",
    "import seaborn as sns\n",
    "\n",
    "df_nums = df.select_dtypes(exclude=[\"object\"])\n",
    "\n",
    "plt.figure(figsize=(20, 20))\n",
    "sns.heatmap(df_nums.corr(), annot=True, cmap='Reds')\n",
    "plt.show()"
   ]
  },
  {
   "cell_type": "code",
   "execution_count": 37,
   "id": "c1cbda78-4685-406d-bd2b-4ecc0dc6e97c",
   "metadata": {},
   "outputs": [
    {
     "data": {
      "text/html": [
       "<div>\n",
       "<style scoped>\n",
       "    .dataframe tbody tr th:only-of-type {\n",
       "        vertical-align: middle;\n",
       "    }\n",
       "\n",
       "    .dataframe tbody tr th {\n",
       "        vertical-align: top;\n",
       "    }\n",
       "\n",
       "    .dataframe thead th {\n",
       "        text-align: right;\n",
       "    }\n",
       "</style>\n",
       "<table border=\"1\" class=\"dataframe\">\n",
       "  <thead>\n",
       "    <tr style=\"text-align: right;\">\n",
       "      <th></th>\n",
       "      <th>sub_type</th>\n",
       "      <th>start_date</th>\n",
       "      <th>end_date</th>\n",
       "      <th>listing_type</th>\n",
       "      <th>tom</th>\n",
       "      <th>building_age</th>\n",
       "      <th>total_floor_count</th>\n",
       "      <th>floor_no</th>\n",
       "      <th>room_count</th>\n",
       "      <th>size</th>\n",
       "      <th>heating_type</th>\n",
       "      <th>price</th>\n",
       "      <th>address_encoded</th>\n",
       "    </tr>\n",
       "  </thead>\n",
       "  <tbody>\n",
       "    <tr>\n",
       "      <th>0</th>\n",
       "      <td>Rezidans</td>\n",
       "      <td>2018-10-12</td>\n",
       "      <td>2019-09-01</td>\n",
       "      <td>2</td>\n",
       "      <td>30</td>\n",
       "      <td>0</td>\n",
       "      <td>20</td>\n",
       "      <td>2</td>\n",
       "      <td>3</td>\n",
       "      <td>90</td>\n",
       "      <td>Fancoil</td>\n",
       "      <td>3500.0</td>\n",
       "      <td>6301</td>\n",
       "    </tr>\n",
       "    <tr>\n",
       "      <th>1</th>\n",
       "      <td>Daire</td>\n",
       "      <td>2019-02-13</td>\n",
       "      <td>2025-09-08</td>\n",
       "      <td>1</td>\n",
       "      <td>14</td>\n",
       "      <td>0</td>\n",
       "      <td>20</td>\n",
       "      <td>20</td>\n",
       "      <td>1</td>\n",
       "      <td>43</td>\n",
       "      <td>Fancoil</td>\n",
       "      <td>490000.0</td>\n",
       "      <td>6301</td>\n",
       "    </tr>\n",
       "    <tr>\n",
       "      <th>2</th>\n",
       "      <td>Daire</td>\n",
       "      <td>2018-09-10</td>\n",
       "      <td>2018-08-11</td>\n",
       "      <td>1</td>\n",
       "      <td>30</td>\n",
       "      <td>0</td>\n",
       "      <td>1</td>\n",
       "      <td>10</td>\n",
       "      <td>3</td>\n",
       "      <td>279</td>\n",
       "      <td>Fancoil</td>\n",
       "      <td>155000.0</td>\n",
       "      <td>5314</td>\n",
       "    </tr>\n",
       "    <tr>\n",
       "      <th>6</th>\n",
       "      <td>Daire</td>\n",
       "      <td>2019-04-01</td>\n",
       "      <td>2025-09-08</td>\n",
       "      <td>2</td>\n",
       "      <td>54</td>\n",
       "      <td>0</td>\n",
       "      <td>20</td>\n",
       "      <td>14</td>\n",
       "      <td>4</td>\n",
       "      <td>160</td>\n",
       "      <td>Fancoil</td>\n",
       "      <td>3750.0</td>\n",
       "      <td>6301</td>\n",
       "    </tr>\n",
       "    <tr>\n",
       "      <th>11</th>\n",
       "      <td>Rezidans</td>\n",
       "      <td>2019-05-01</td>\n",
       "      <td>2019-01-18</td>\n",
       "      <td>2</td>\n",
       "      <td>13</td>\n",
       "      <td>2</td>\n",
       "      <td>20</td>\n",
       "      <td>20</td>\n",
       "      <td>4</td>\n",
       "      <td>165</td>\n",
       "      <td>Fancoil</td>\n",
       "      <td>7500.0</td>\n",
       "      <td>6703</td>\n",
       "    </tr>\n",
       "    <tr>\n",
       "      <th>...</th>\n",
       "      <td>...</td>\n",
       "      <td>...</td>\n",
       "      <td>...</td>\n",
       "      <td>...</td>\n",
       "      <td>...</td>\n",
       "      <td>...</td>\n",
       "      <td>...</td>\n",
       "      <td>...</td>\n",
       "      <td>...</td>\n",
       "      <td>...</td>\n",
       "      <td>...</td>\n",
       "      <td>...</td>\n",
       "      <td>...</td>\n",
       "    </tr>\n",
       "    <tr>\n",
       "      <th>403480</th>\n",
       "      <td>Daire</td>\n",
       "      <td>2018-09-25</td>\n",
       "      <td>2019-01-23</td>\n",
       "      <td>1</td>\n",
       "      <td>120</td>\n",
       "      <td>1</td>\n",
       "      <td>0</td>\n",
       "      <td>0</td>\n",
       "      <td>4</td>\n",
       "      <td>279</td>\n",
       "      <td>absent</td>\n",
       "      <td>185000.0</td>\n",
       "      <td>1165</td>\n",
       "    </tr>\n",
       "    <tr>\n",
       "      <th>403481</th>\n",
       "      <td>Daire</td>\n",
       "      <td>2019-12-01</td>\n",
       "      <td>2025-09-08</td>\n",
       "      <td>1</td>\n",
       "      <td>46</td>\n",
       "      <td>1</td>\n",
       "      <td>0</td>\n",
       "      <td>0</td>\n",
       "      <td>1</td>\n",
       "      <td>279</td>\n",
       "      <td>absent</td>\n",
       "      <td>354641.0</td>\n",
       "      <td>7096</td>\n",
       "    </tr>\n",
       "    <tr>\n",
       "      <th>403482</th>\n",
       "      <td>Daire</td>\n",
       "      <td>2018-09-18</td>\n",
       "      <td>2025-09-08</td>\n",
       "      <td>2</td>\n",
       "      <td>162</td>\n",
       "      <td>1</td>\n",
       "      <td>0</td>\n",
       "      <td>0</td>\n",
       "      <td>1</td>\n",
       "      <td>279</td>\n",
       "      <td>absent</td>\n",
       "      <td>1500.0</td>\n",
       "      <td>6477</td>\n",
       "    </tr>\n",
       "    <tr>\n",
       "      <th>403483</th>\n",
       "      <td>Daire</td>\n",
       "      <td>2018-11-10</td>\n",
       "      <td>2025-09-08</td>\n",
       "      <td>1</td>\n",
       "      <td>139</td>\n",
       "      <td>1</td>\n",
       "      <td>0</td>\n",
       "      <td>0</td>\n",
       "      <td>3</td>\n",
       "      <td>279</td>\n",
       "      <td>absent</td>\n",
       "      <td>120000.0</td>\n",
       "      <td>4838</td>\n",
       "    </tr>\n",
       "    <tr>\n",
       "      <th>403486</th>\n",
       "      <td>Daire</td>\n",
       "      <td>2019-01-15</td>\n",
       "      <td>2019-01-18</td>\n",
       "      <td>1</td>\n",
       "      <td>3</td>\n",
       "      <td>1</td>\n",
       "      <td>0</td>\n",
       "      <td>0</td>\n",
       "      <td>4</td>\n",
       "      <td>140</td>\n",
       "      <td>absent</td>\n",
       "      <td>210000.0</td>\n",
       "      <td>3128</td>\n",
       "    </tr>\n",
       "  </tbody>\n",
       "</table>\n",
       "<p>347108 rows × 13 columns</p>\n",
       "</div>"
      ],
      "text/plain": [
       "        sub_type start_date   end_date  listing_type  tom  building_age  \\\n",
       "0       Rezidans 2018-10-12 2019-09-01             2   30             0   \n",
       "1          Daire 2019-02-13 2025-09-08             1   14             0   \n",
       "2          Daire 2018-09-10 2018-08-11             1   30             0   \n",
       "6          Daire 2019-04-01 2025-09-08             2   54             0   \n",
       "11      Rezidans 2019-05-01 2019-01-18             2   13             2   \n",
       "...          ...        ...        ...           ...  ...           ...   \n",
       "403480     Daire 2018-09-25 2019-01-23             1  120             1   \n",
       "403481     Daire 2019-12-01 2025-09-08             1   46             1   \n",
       "403482     Daire 2018-09-18 2025-09-08             2  162             1   \n",
       "403483     Daire 2018-11-10 2025-09-08             1  139             1   \n",
       "403486     Daire 2019-01-15 2019-01-18             1    3             1   \n",
       "\n",
       "        total_floor_count  floor_no  room_count  size heating_type     price  \\\n",
       "0                      20         2           3    90      Fancoil    3500.0   \n",
       "1                      20        20           1    43      Fancoil  490000.0   \n",
       "2                       1        10           3   279      Fancoil  155000.0   \n",
       "6                      20        14           4   160      Fancoil    3750.0   \n",
       "11                     20        20           4   165      Fancoil    7500.0   \n",
       "...                   ...       ...         ...   ...          ...       ...   \n",
       "403480                  0         0           4   279       absent  185000.0   \n",
       "403481                  0         0           1   279       absent  354641.0   \n",
       "403482                  0         0           1   279       absent    1500.0   \n",
       "403483                  0         0           3   279       absent  120000.0   \n",
       "403486                  0         0           4   140       absent  210000.0   \n",
       "\n",
       "        address_encoded  \n",
       "0                  6301  \n",
       "1                  6301  \n",
       "2                  5314  \n",
       "6                  6301  \n",
       "11                 6703  \n",
       "...                 ...  \n",
       "403480             1165  \n",
       "403481             7096  \n",
       "403482             6477  \n",
       "403483             4838  \n",
       "403486             3128  \n",
       "\n",
       "[347108 rows x 13 columns]"
      ]
     },
     "execution_count": 37,
     "metadata": {},
     "output_type": "execute_result"
    }
   ],
   "source": [
    "df"
   ]
  },
  {
   "cell_type": "markdown",
   "id": "02e7809f-f296-4fb1-824f-0e1aa4cc8873",
   "metadata": {},
   "source": [
    "# Классификация "
   ]
  },
  {
   "cell_type": "code",
   "execution_count": 38,
   "id": "3eef221c-f724-4b16-bd05-a81a6769df70",
   "metadata": {},
   "outputs": [],
   "source": [
    "#pip install catboost"
   ]
  },
  {
   "cell_type": "code",
   "execution_count": 39,
   "id": "e6a69b9d-292f-41a0-8206-a8f282d26d70",
   "metadata": {},
   "outputs": [],
   "source": [
    "from sklearn.model_selection import train_test_split\n",
    "from sklearn.preprocessing import StandardScaler, LabelEncoder\n",
    "from sklearn.ensemble import StackingClassifier, BaggingClassifier\n",
    "from sklearn.linear_model import LogisticRegression\n",
    "from sklearn.tree import DecisionTreeClassifier\n",
    "from sklearn.metrics import classification_report, accuracy_score\n",
    "from catboost import CatBoostClassifier\n",
    "import warnings\n",
    "warnings.filterwarnings('ignore')"
   ]
  },
  {
   "cell_type": "code",
   "execution_count": 40,
   "id": "c79e456a-5667-4175-b96f-69bca72cb46e",
   "metadata": {},
   "outputs": [],
   "source": [
    "# Предобработка данных - ВАЖНО: преобразуем даты!\n",
    "df['start_date'] = pd.to_datetime(df['start_date'])\n",
    "df['end_date'] = pd.to_datetime(df['end_date'])\n",
    "\n",
    "# Создаем числовые признаки из дат\n",
    "df['start_year'] = df['start_date'].dt.year\n",
    "df['start_month'] = df['start_date'].dt.month\n",
    "df['start_day'] = df['start_date'].dt.day\n",
    "df['end_year'] = df['end_date'].dt.year\n",
    "df['end_month'] = df['end_date'].dt.month\n",
    "df['end_day'] = df['end_date'].dt.day\n",
    "\n",
    "# Удаляем оригинальные datetime столбцы\n",
    "df = df.drop(['start_date', 'end_date'], axis=1)"
   ]
  },
  {
   "cell_type": "code",
   "execution_count": 41,
   "id": "b92abb6d-817d-48d9-aa09-b7ee74c01ae1",
   "metadata": {},
   "outputs": [],
   "source": [
    "le = LabelEncoder()\n",
    "df['heating_type_ecnoded'] = le.fit_transform(df['heating_type'])\n",
    "df = df.drop('heating_type', axis=1)"
   ]
  },
  {
   "cell_type": "code",
   "execution_count": 42,
   "id": "7a9e57a9-d30f-4ce1-bb8e-59a4fe5dbbd5",
   "metadata": {},
   "outputs": [],
   "source": [
    "# Целевая переменная\n",
    "y = df['sub_type']\n",
    "X = df.drop(['sub_type'], axis=1)"
   ]
  },
  {
   "cell_type": "code",
   "execution_count": 43,
   "id": "6f9fcbdf-6e88-41bd-9962-3e889913a215",
   "metadata": {},
   "outputs": [],
   "source": [
    "# Разделение на train/test\n",
    "X_train, X_test, y_train, y_test = train_test_split(X, y, test_size=0.2, random_state=42, stratify=y)"
   ]
  },
  {
   "cell_type": "markdown",
   "id": "61c1639b-cde8-40c1-bd79-adf178bc529b",
   "metadata": {},
   "source": [
    "# 1. BaggingClassifier (бэкинг)"
   ]
  },
  {
   "cell_type": "code",
   "execution_count": 44,
   "id": "02e2e42f-17e7-4337-b0c3-2e964c06d86c",
   "metadata": {},
   "outputs": [
    {
     "name": "stdout",
     "output_type": "stream",
     "text": [
      "=== BaggingClassifier ===\n",
      "Accuracy: 0.9535\n",
      "                     precision    recall  f1-score   support\n",
      "\n",
      "              Daire       0.97      0.99      0.98     64457\n",
      "        Komple Bina       0.94      0.54      0.69       211\n",
      "         Kooperatif       0.00      0.00      0.00        12\n",
      "Köşk / Konak / Yalı       1.00      0.06      0.12        16\n",
      "               Loft       0.00      0.00      0.00         3\n",
      "        Müstakil Ev       0.65      0.49      0.56      1207\n",
      "       Prefabrik Ev       0.73      0.62      0.67       133\n",
      "           Rezidans       0.83      0.16      0.27      1047\n",
      "              Villa       0.67      0.59      0.63      1414\n",
      "       Yalı Dairesi       0.00      0.00      0.00        21\n",
      "             Yazlık       0.54      0.31      0.39       854\n",
      "        Çiftlik Evi       1.00      0.06      0.12        47\n",
      "\n",
      "           accuracy                           0.95     69422\n",
      "          macro avg       0.61      0.32      0.37     69422\n",
      "       weighted avg       0.95      0.95      0.95     69422\n",
      "\n"
     ]
    }
   ],
   "source": [
    "print(\"=== BaggingClassifier ===\")\n",
    "bagging_clf = BaggingClassifier(\n",
    "    estimator=DecisionTreeClassifier(max_depth=10),\n",
    "    n_estimators=50,\n",
    "    random_state=42\n",
    ")\n",
    "bagging_clf.fit(X_train, y_train)\n",
    "y_pred_bagging = bagging_clf.predict(X_test)\n",
    "print(f\"Accuracy: {accuracy_score(y_test, y_pred_bagging):.4f}\")\n",
    "print(classification_report(y_test, y_pred_bagging))"
   ]
  },
  {
   "cell_type": "markdown",
   "id": "fa4830cf-9d99-4b3e-b91e-10e87a1f1a82",
   "metadata": {},
   "source": [
    "# 2. CatBoost (бустинг)"
   ]
  },
  {
   "cell_type": "code",
   "execution_count": 45,
   "id": "eebb2df8-9bea-4f54-8403-da71b822b746",
   "metadata": {},
   "outputs": [
    {
     "name": "stdout",
     "output_type": "stream",
     "text": [
      "\n",
      "=== CatBoost ===\n",
      "Accuracy: 0.9521\n",
      "                     precision    recall  f1-score   support\n",
      "\n",
      "              Daire       0.96      1.00      0.98     64457\n",
      "        Komple Bina       0.94      0.53      0.67       211\n",
      "         Kooperatif       0.00      0.00      0.00        12\n",
      "Köşk / Konak / Yalı       0.00      0.00      0.00        16\n",
      "               Loft       0.00      0.00      0.00         3\n",
      "        Müstakil Ev       0.66      0.40      0.50      1207\n",
      "       Prefabrik Ev       0.88      0.68      0.77       133\n",
      "           Rezidans       0.75      0.17      0.27      1047\n",
      "              Villa       0.65      0.61      0.63      1414\n",
      "       Yalı Dairesi       0.00      0.00      0.00        21\n",
      "             Yazlık       0.59      0.23      0.33       854\n",
      "        Çiftlik Evi       1.00      0.06      0.12        47\n",
      "\n",
      "           accuracy                           0.95     69422\n",
      "          macro avg       0.54      0.31      0.36     69422\n",
      "       weighted avg       0.94      0.95      0.94     69422\n",
      "\n"
     ]
    }
   ],
   "source": [
    "print(\"\\n=== CatBoost ===\")\n",
    "catboost_clf = CatBoostClassifier(\n",
    "    iterations=100,\n",
    "    learning_rate=0.1,\n",
    "    depth=6,\n",
    "    random_state=42,\n",
    "    verbose=0\n",
    ")\n",
    "catboost_clf.fit(X_train, y_train)\n",
    "y_pred_catboost = catboost_clf.predict(X_test)\n",
    "print(f\"Accuracy: {accuracy_score(y_test, y_pred_catboost):.4f}\")\n",
    "print(classification_report(y_test, y_pred_catboost))"
   ]
  },
  {
   "cell_type": "markdown",
   "id": "66a6cf6a-647a-4d0c-9ddc-1f00d8b3a356",
   "metadata": {},
   "source": [
    "# 3. StackingClassifier (стеккинг)"
   ]
  },
  {
   "cell_type": "code",
   "execution_count": 46,
   "id": "0cf27496-c76c-494d-8cd3-7147171bcf92",
   "metadata": {},
   "outputs": [
    {
     "name": "stdout",
     "output_type": "stream",
     "text": [
      "\n",
      "=== StackingClassifier ===\n",
      "Accuracy: 0.9478\n",
      "                     precision    recall  f1-score   support\n",
      "\n",
      "              Daire       0.96      0.99      0.98     64457\n",
      "        Komple Bina       0.90      0.51      0.65       211\n",
      "         Kooperatif       0.00      0.00      0.00        12\n",
      "Köşk / Konak / Yalı       0.00      0.00      0.00        16\n",
      "               Loft       0.00      0.00      0.00         3\n",
      "        Müstakil Ev       0.59      0.33      0.43      1207\n",
      "       Prefabrik Ev       0.43      0.48      0.45       133\n",
      "           Rezidans       0.80      0.13      0.23      1047\n",
      "              Villa       0.53      0.66      0.59      1414\n",
      "       Yalı Dairesi       0.00      0.00      0.00        21\n",
      "             Yazlık       0.59      0.04      0.08       854\n",
      "        Çiftlik Evi       0.83      0.11      0.19        47\n",
      "\n",
      "           accuracy                           0.95     69422\n",
      "          macro avg       0.47      0.27      0.30     69422\n",
      "       weighted avg       0.94      0.95      0.94     69422\n",
      "\n"
     ]
    }
   ],
   "source": [
    "print(\"\\n=== StackingClassifier ===\")\n",
    "# Базовые модели\n",
    "base_models = [\n",
    "    ('dt', DecisionTreeClassifier(max_depth=8, random_state=42)),\n",
    "    ('logreg', LogisticRegression(max_iter=1000, random_state=42))\n",
    "]\n",
    "\n",
    "# Мета-модель\n",
    "meta_model = LogisticRegression(max_iter=1000, random_state=42)\n",
    "\n",
    "stacking_clf = StackingClassifier(\n",
    "    estimators=base_models,\n",
    "    final_estimator=meta_model,\n",
    "    cv=5\n",
    ")\n",
    "stacking_clf.fit(X_train, y_train)\n",
    "y_pred_stacking = stacking_clf.predict(X_test)\n",
    "print(f\"Accuracy: {accuracy_score(y_test, y_pred_stacking):.4f}\")\n",
    "print(classification_report(y_test, y_pred_stacking))"
   ]
  },
  {
   "cell_type": "markdown",
   "id": "f2e23077-25aa-44d5-b5dc-0bebb4828047",
   "metadata": {},
   "source": [
    "# Сравнение результатов"
   ]
  },
  {
   "cell_type": "code",
   "execution_count": 47,
   "id": "1b0ddbbd-093c-4582-8144-8aee6c394837",
   "metadata": {},
   "outputs": [
    {
     "name": "stdout",
     "output_type": "stream",
     "text": [
      "\n",
      "=== Сравнение моделей ===\n",
      "Bagging Accuracy: 0.9535\n",
      "CatBoost Accuracy: 0.9521\n",
      "Stacking Accuracy: 0.9478\n"
     ]
    }
   ],
   "source": [
    "print(\"\\n=== Сравнение моделей ===\")\n",
    "print(f\"Bagging Accuracy: {accuracy_score(y_test, y_pred_bagging):.4f}\")\n",
    "print(f\"CatBoost Accuracy: {accuracy_score(y_test, y_pred_catboost):.4f}\")\n",
    "print(f\"Stacking Accuracy: {accuracy_score(y_test, y_pred_stacking):.4f}\")"
   ]
  },
  {
   "cell_type": "code",
   "execution_count": 48,
   "id": "1fb50d66-233c-40f7-af90-60edd76001d8",
   "metadata": {},
   "outputs": [],
   "source": [
    "import pickle\n",
    "\n",
    "# Сохраняем модель\n",
    "with open('bagging_clf.pkl', 'wb') as file:\n",
    "    pickle.dump(bagging_clf, file)"
   ]
  },
  {
   "cell_type": "markdown",
   "id": "258246f5-2cb1-4fb6-a727-691b830fb2d1",
   "metadata": {},
   "source": [
    "# Регрессия"
   ]
  },
  {
   "cell_type": "code",
   "execution_count": 49,
   "id": "62f2e0db-2952-4ed6-9ac5-03bef17c3191",
   "metadata": {},
   "outputs": [
    {
     "name": "stdout",
     "output_type": "stream",
     "text": [
      "Requirement already satisfied: xgboost in d:\\proga_anaconda\\lib\\site-packages (3.0.5)\n",
      "Requirement already satisfied: numpy in d:\\proga_anaconda\\lib\\site-packages (from xgboost) (2.1.3)\n",
      "Requirement already satisfied: scipy in d:\\proga_anaconda\\lib\\site-packages (from xgboost) (1.15.3)\n",
      "Note: you may need to restart the kernel to use updated packages.\n"
     ]
    }
   ],
   "source": [
    "pip install xgboost"
   ]
  },
  {
   "cell_type": "code",
   "execution_count": 50,
   "id": "47d02b55-9b0a-49b3-8bb1-d532901b9559",
   "metadata": {},
   "outputs": [],
   "source": [
    "from sklearn.ensemble import StackingRegressor, BaggingRegressor\n",
    "from sklearn.linear_model import LinearRegression\n",
    "from sklearn.tree import DecisionTreeRegressor\n",
    "from sklearn.metrics import mean_absolute_error, mean_squared_error, r2_score\n",
    "from xgboost import XGBRegressor"
   ]
  },
  {
   "cell_type": "code",
   "execution_count": 51,
   "id": "9feca725-5a51-4275-ac98-6906a0570dc6",
   "metadata": {},
   "outputs": [],
   "source": [
    "le = LabelEncoder()\n",
    "df['sub_type_encoded'] = le.fit_transform(df['sub_type'])\n",
    "df = df.drop('sub_type', axis=1)"
   ]
  },
  {
   "cell_type": "code",
   "execution_count": 53,
   "id": "88cb43d9-9e62-4257-b5aa-28bbd414421a",
   "metadata": {},
   "outputs": [],
   "source": [
    "y = df['price']\n",
    "X = df.drop(['price'], axis=1)"
   ]
  },
  {
   "cell_type": "code",
   "execution_count": 54,
   "id": "a6e9a3f5-3325-4530-827b-4e94c2e9c607",
   "metadata": {},
   "outputs": [],
   "source": [
    "X_train, X_test, y_train, y_test = train_test_split(X, y, test_size=0.2, random_state=42)"
   ]
  },
  {
   "cell_type": "markdown",
   "id": "81d4ad61-e20c-4236-9471-dec7b3d4de66",
   "metadata": {},
   "source": [
    "# BaggingRegressor"
   ]
  },
  {
   "cell_type": "code",
   "execution_count": 55,
   "id": "0f7e2631-15f7-440c-b705-13f67c4bd72a",
   "metadata": {},
   "outputs": [
    {
     "name": "stdout",
     "output_type": "stream",
     "text": [
      "=== BaggingRegressor ===\n",
      "R² Score: 0.8209\n",
      "MAE: 38857.4055\n",
      "RMSE: 61115.4584\n"
     ]
    }
   ],
   "source": [
    "print(\"=== BaggingRegressor ===\")\n",
    "bagging_reg = BaggingRegressor(\n",
    "    estimator=DecisionTreeRegressor(max_depth=10),\n",
    "    n_estimators=50,\n",
    "    random_state=42\n",
    ")\n",
    "bagging_reg.fit(X_train, y_train)\n",
    "y_pred_bagging = bagging_reg.predict(X_test)\n",
    "\n",
    "print(f\"R² Score: {r2_score(y_test, y_pred_bagging):.4f}\")\n",
    "print(f\"MAE: {mean_absolute_error(y_test, y_pred_bagging):.4f}\")\n",
    "print(f\"RMSE: {np.sqrt(mean_squared_error(y_test, y_pred_bagging)):.4f}\")"
   ]
  },
  {
   "cell_type": "markdown",
   "id": "9ccf7b5b-46d5-4e0e-836d-2db987d74801",
   "metadata": {},
   "source": [
    "# XGBoost"
   ]
  },
  {
   "cell_type": "code",
   "execution_count": 56,
   "id": "2fc1e558-3daa-4591-a306-f704b9c0118d",
   "metadata": {},
   "outputs": [
    {
     "name": "stdout",
     "output_type": "stream",
     "text": [
      "\n",
      "=== XGBoost ===\n",
      "R² Score: 0.8383\n",
      "MAE: 37513.8119\n",
      "RMSE: 58079.4761\n"
     ]
    }
   ],
   "source": [
    "print(\"\\n=== XGBoost ===\")\n",
    "xgb_reg = XGBRegressor(\n",
    "    n_estimators=100,\n",
    "    learning_rate=0.1,\n",
    "    max_depth=6,\n",
    "    random_state=42,\n",
    "    objective='reg:squarederror'\n",
    ")\n",
    "xgb_reg.fit(X_train, y_train)\n",
    "y_pred_xgb = xgb_reg.predict(X_test)\n",
    "\n",
    "print(f\"R² Score: {r2_score(y_test, y_pred_xgb):.4f}\")\n",
    "print(f\"MAE: {mean_absolute_error(y_test, y_pred_xgb):.4f}\")\n",
    "print(f\"RMSE: {np.sqrt(mean_squared_error(y_test, y_pred_xgb)):.4f}\")"
   ]
  },
  {
   "cell_type": "markdown",
   "id": "e6e114df-afec-4946-99f9-b066bafd54ac",
   "metadata": {},
   "source": [
    "# StackingRegressor "
   ]
  },
  {
   "cell_type": "code",
   "execution_count": 57,
   "id": "100b88f5-6831-4aa9-a807-d133e0805c20",
   "metadata": {},
   "outputs": [
    {
     "name": "stdout",
     "output_type": "stream",
     "text": [
      "\n",
      "=== StackingRegressor ===\n",
      "R² Score: 0.7911\n",
      "MAE: 42754.3806\n",
      "RMSE: 66014.1048\n"
     ]
    }
   ],
   "source": [
    "print(\"\\n=== StackingRegressor ===\")\n",
    "# Базовые модели для стеккинга\n",
    "base_models = [\n",
    "    ('dt', DecisionTreeRegressor(max_depth=8, random_state=42)),\n",
    "    ('lr', LinearRegression())\n",
    "]\n",
    "\n",
    "# Мета-модель\n",
    "meta_model = LinearRegression()\n",
    "\n",
    "stacking_reg = StackingRegressor(\n",
    "    estimators=base_models,\n",
    "    final_estimator=meta_model,\n",
    "    cv=5\n",
    ")\n",
    "stacking_reg.fit(X_train, y_train)\n",
    "y_pred_stacking = stacking_reg.predict(X_test)\n",
    "\n",
    "print(f\"R² Score: {r2_score(y_test, y_pred_stacking):.4f}\")\n",
    "print(f\"MAE: {mean_absolute_error(y_test, y_pred_stacking):.4f}\")\n",
    "print(f\"RMSE: {np.sqrt(mean_squared_error(y_test, y_pred_stacking)):.4f}\")"
   ]
  },
  {
   "cell_type": "code",
   "execution_count": 58,
   "id": "91b98179-4f69-4842-a9d4-cfb5cdf56163",
   "metadata": {},
   "outputs": [],
   "source": [
    "## Сравниваем результаты моделей"
   ]
  },
  {
   "cell_type": "code",
   "execution_count": 59,
   "id": "f66d757b-2bb4-4ed3-8e6b-f2e0805cb596",
   "metadata": {},
   "outputs": [
    {
     "name": "stdout",
     "output_type": "stream",
     "text": [
      "\n",
      "=== Сравнение моделей ===\n",
      "Bagging R²: 0.8209\n",
      "XGBoost R²: 0.8383\n",
      "Stacking R²: 0.7911\n"
     ]
    }
   ],
   "source": [
    "print(\"\\n=== Сравнение моделей ===\")\n",
    "print(f\"Bagging R²: {r2_score(y_test, y_pred_bagging):.4f}\")\n",
    "print(f\"XGBoost R²: {r2_score(y_test, y_pred_xgb):.4f}\")\n",
    "print(f\"Stacking R²: {r2_score(y_test, y_pred_stacking):.4f}\")"
   ]
  },
  {
   "cell_type": "code",
   "execution_count": 60,
   "id": "99002a02-4f1c-4c36-b28a-b5ec90c3e7e3",
   "metadata": {},
   "outputs": [],
   "source": [
    "with open('xgb_reg.pkl', 'wb') as file:\n",
    "    pickle.dump(xgb_reg, file)"
   ]
  },
  {
   "cell_type": "markdown",
   "id": "af754e15-7417-4a9e-8933-cdc48c9498af",
   "metadata": {},
   "source": [
    "# Выводы:"
   ]
  },
  {
   "cell_type": "markdown",
   "id": "e1ad4ba9-16a2-426a-a1e8-497da294f77a",
   "metadata": {},
   "source": [
    "## В данной работе было проделано:\n",
    "- подключение модулей\n",
    "- загрузка данных\n",
    "- разведочный анализ данных\n",
    "- предварительная обработка данных\n",
    "- визуальный анализ\n",
    "- Изучена новые методы, такие как ансамблевый метод машинного обучения, и применены в в практике \n",
    "- обучение и прогнозирование моделей классификации (models fitting and prediction)"
   ]
  },
  {
   "cell_type": "markdown",
   "id": "67c924dc-2002-461a-ab2d-d902658a7315",
   "metadata": {},
   "source": [
    "## Итоги моделей Классификация:\n",
    "### Bagging Accuracy: 0.9535\n",
    "### CatBoost Accuracy: 0.9519\n",
    "### Stacking Accuracy: 0.9481\n",
    "\n",
    "## Итоги моделей Регрессия\n",
    "### Bagging R²: 0.8209\n",
    "### XGBoost R²: 0.8383\n",
    "### Stacking R²: 0.7911"
   ]
  },
  {
   "cell_type": "code",
   "execution_count": null,
   "id": "0d806c9e-b9c6-4838-80eb-271136b54252",
   "metadata": {},
   "outputs": [],
   "source": []
  },
  {
   "cell_type": "code",
   "execution_count": null,
   "id": "ab1f6723-0598-461c-8db0-730f9f1c6f5e",
   "metadata": {},
   "outputs": [],
   "source": []
  }
 ],
 "metadata": {
  "kernelspec": {
   "display_name": "Python 3 (ipykernel)",
   "language": "python",
   "name": "python3"
  },
  "language_info": {
   "codemirror_mode": {
    "name": "ipython",
    "version": 3
   },
   "file_extension": ".py",
   "mimetype": "text/x-python",
   "name": "python",
   "nbconvert_exporter": "python",
   "pygments_lexer": "ipython3",
   "version": "3.12.4"
  }
 },
 "nbformat": 4,
 "nbformat_minor": 5
}
